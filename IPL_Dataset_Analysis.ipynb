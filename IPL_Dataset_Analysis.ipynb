{
  "nbformat": 4,
  "nbformat_minor": 0,
  "metadata": {
    "colab": {
      "name": "IPL Dataset Analysis",
      "provenance": [],
      "collapsed_sections": [
        "iNe0OWRaQj-Z",
        "jBOAX6fJQj-a",
        "LrtcBwUnQj-a",
        "aL-SOn_LQj-b",
        "leCaHJIEQj-b",
        "1BPiMK_AQj-c",
        "o7dqwnDNQj-d",
        "hhEsTwI1Qj-d"
      ],
      "include_colab_link": true
    },
    "kernelspec": {
      "display_name": "Python 3",
      "language": "python",
      "name": "python3"
    },
    "language_info": {
      "codemirror_mode": {
        "name": "ipython",
        "version": 3
      },
      "file_extension": ".py",
      "mimetype": "text/x-python",
      "name": "python",
      "nbconvert_exporter": "python",
      "pygments_lexer": "ipython3",
      "version": "3.8.5"
    }
  },
  "cells": [
    {
      "cell_type": "markdown",
      "metadata": {
        "id": "view-in-github",
        "colab_type": "text"
      },
      "source": [
        "<a href=\"https://colab.research.google.com/github/AMMLRepos/ipl-data-set-analysis/blob/main/IPL_Dataset_Analysis.ipynb\" target=\"_parent\"><img src=\"https://colab.research.google.com/assets/colab-badge.svg\" alt=\"Open In Colab\"/></a>"
      ]
    },
    {
      "cell_type": "code",
      "metadata": {
        "id": "sx-16IZ02uGp"
      },
      "source": [
        "# Jovian Commit Essentials\n",
        "# Please retain and execute this cell without modifying the contents for `jovian.commit` to work\n",
        "!pip install jovian --upgrade -q\n",
        "import jovian\n",
        "jovian.set_project('ipl-dataset-analysis')\n",
        "jovian.set_colab_id('1Q7zvmORfgxTMMGfh1t5JUoKN-VwkUyx4')"
      ],
      "execution_count": null,
      "outputs": []
    },
    {
      "cell_type": "markdown",
      "metadata": {
        "id": "ltvX2MJGQj-L"
      },
      "source": [
        "# Project Title - Analyzing IPL (Indian Premier League) dataset available on [Kaggle](https://www.kaggle.com/harsha547/indian-premier-league-csv-dataset/code)\n",
        "\n",
        "- This project analyzes IPL dataset which is openly and freely available on [kaggle](https://www.kaggle.com/harsha547/indian-premier-league-csv-dataset/code)\n",
        "- [kaggle](https://www.kaggle.com/harsha547/indian-premier-league-csv-dataset/code) has thousands of freely available datasets for datanalaytics purpose\n",
        "- Dataset has information on matches playes across the IPL seasons which can be used to answer some interesting questions related to teams' performance and many other interesting statistcs. \n",
        "- We will use Kaggle, python libraries like pandas, matplotlib and seaborn as major libraries \n",
        "- Google Colab (Jupyter notebook) as runtime environment "
      ]
    },
    {
      "cell_type": "markdown",
      "metadata": {
        "id": "gGQyfqKfQj-O"
      },
      "source": [
        "### How to run the code\n",
        "\n",
        "This is an executable [*Jupyter notebook*](https://jupyter.org) hosted on [Jovian.ml](https://www.jovian.ml), a platform for sharing data science projects. You can run and experiment with the code in a couple of ways: *using free online resources* (recommended) or *on your own computer*.\n",
        "\n",
        "#### Option 1: Running using free online resources (1-click, recommended)\n",
        "\n",
        "The easiest way to start executing this notebook is to click the \"Run\" button at the top of this page, and select \"Run on Binder\". This will run the notebook on [mybinder.org](https://mybinder.org), a free online service for running Jupyter notebooks. You can also select \"Run on Colab\" or \"Run on Kaggle\".\n",
        "\n",
        "\n",
        "#### Option 2: Running on your computer locally\n",
        "\n",
        "1. Install Conda by [following these instructions](https://conda.io/projects/conda/en/latest/user-guide/install/index.html). Add Conda binaries to your system `PATH`, so you can use the `conda` command on your terminal.\n",
        "\n",
        "2. Create a Conda environment and install the required libraries by running these commands on the terminal:\n",
        "\n",
        "```\n",
        "conda create -n zerotopandas -y python=3.8 \n",
        "conda activate zerotopandas\n",
        "pip install jovian jupyter numpy pandas matplotlib seaborn opendatasets --upgrade\n",
        "```\n",
        "\n",
        "3. Press the \"Clone\" button above to copy the command for downloading the notebook, and run it on the terminal. This will create a new directory and download the notebook. The command will look something like this:\n",
        "\n",
        "```\n",
        "jovian clone notebook-owner/notebook-id\n",
        "```\n",
        "\n",
        "\n",
        "\n",
        "4. Enter the newly created directory using `cd directory-name` and start the Jupyter notebook.\n",
        "\n",
        "```\n",
        "jupyter notebook\n",
        "```\n",
        "\n",
        "You can now access Jupyter's web interface by clicking the link that shows up on the terminal or by visiting http://localhost:8888 on your browser. Click on the notebook file (it has a `.ipynb` extension) to open it.\n"
      ]
    },
    {
      "cell_type": "markdown",
      "metadata": {
        "id": "BBmyaWl_Qj-O"
      },
      "source": [
        "## Downloading the Dataset\n",
        "\n",
        "- Below are the instructions to download the datasets available on [Kaggle](https://www.kaggle.com/)\n",
        "- We will install [opendatasets](https://github.com/JovianML/opendatasets#opendatasets), a special library to donwload datasets from online sources like Kaggle and Google Drive\n",
        "- Below is the command python code to download dataset of interest "
      ]
    },
    {
      "cell_type": "code",
      "metadata": {
        "id": "A9LVz6RQQj-P"
      },
      "source": [
        "!pip install jovian opendatasets --upgrade --quiet"
      ],
      "execution_count": null,
      "outputs": []
    },
    {
      "cell_type": "markdown",
      "metadata": {
        "id": "hViXt9fiQj-P"
      },
      "source": [
        "Let's begin by downloading the data, and listing the files within the dataset."
      ]
    },
    {
      "cell_type": "code",
      "metadata": {
        "id": "C2P_KfcMQj-Q"
      },
      "source": [
        "# Downloading IPL Dataset available on https://www.kaggle.com/harsha547/indian-premier-league-csv-dataset\n",
        "dataset_url = 'https://www.kaggle.com/harsha547/indian-premier-league-csv-dataset' "
      ],
      "execution_count": null,
      "outputs": []
    },
    {
      "cell_type": "code",
      "metadata": {
        "colab": {
          "base_uri": "https://localhost:8080/"
        },
        "id": "0qiz8I_JQj-R",
        "outputId": "9dbfed7c-e8b9-4a5b-c36e-5e130f97ab8b"
      },
      "source": [
        "import opendatasets as od\n",
        "od.download(dataset_url)"
      ],
      "execution_count": null,
      "outputs": [
        {
          "output_type": "stream",
          "text": [
            "Skipping, found downloaded files in \"./indian-premier-league-csv-dataset\" (use force=True to force download)\n"
          ],
          "name": "stdout"
        }
      ]
    },
    {
      "cell_type": "markdown",
      "metadata": {
        "id": "ufLs-wS-Qj-S"
      },
      "source": [
        "The dataset has been downloaded and extracted."
      ]
    },
    {
      "cell_type": "code",
      "metadata": {
        "id": "KSbN4yRvQj-S"
      },
      "source": [
        "# Set your directory to the folder which has files download from kaggle \n",
        "data_dir = './indian-premier-league-csv-dataset'"
      ],
      "execution_count": null,
      "outputs": []
    },
    {
      "cell_type": "code",
      "metadata": {
        "colab": {
          "base_uri": "https://localhost:8080/"
        },
        "id": "zhwWFLOmQj-S",
        "outputId": "170b5ce4-42fd-4fc9-ead5-17cb9fc4988e"
      },
      "source": [
        "import os\n",
        "# List all the csv files available in the downloaded dataset \n",
        "os.listdir(data_dir)"
      ],
      "execution_count": null,
      "outputs": [
        {
          "output_type": "execute_result",
          "data": {
            "text/plain": [
              "['Team.csv',\n",
              " 'Player.csv',\n",
              " 'Player_Match.csv',\n",
              " 'Season.csv',\n",
              " 'Match.csv',\n",
              " 'Ball_by_Ball.csv']"
            ]
          },
          "metadata": {
            "tags": []
          },
          "execution_count": 56
        }
      ]
    },
    {
      "cell_type": "markdown",
      "metadata": {
        "id": "rLF1nawIQj-T"
      },
      "source": [
        "Let us save and upload our work to Jovian before continuing."
      ]
    },
    {
      "cell_type": "code",
      "metadata": {
        "id": "rJfthoFBQj-T"
      },
      "source": [
        "project_name = \"ipl-dataset-analysis\" # change this (use lowercase letters and hyphens only)"
      ],
      "execution_count": null,
      "outputs": []
    },
    {
      "cell_type": "code",
      "metadata": {
        "id": "hPbpLDYtQj-T"
      },
      "source": [
        "!pip install jovian --upgrade -q"
      ],
      "execution_count": null,
      "outputs": []
    },
    {
      "cell_type": "code",
      "metadata": {
        "id": "If_w7q_iQj-T"
      },
      "source": [
        "import jovian"
      ],
      "execution_count": null,
      "outputs": []
    },
    {
      "cell_type": "code",
      "metadata": {
        "colab": {
          "base_uri": "https://localhost:8080/",
          "height": 86
        },
        "id": "wsp0qucSQj-U",
        "outputId": "3093acd3-6647-4390-dfed-8b29cd99e502"
      },
      "source": [
        "jovian.commit(project=project_name)"
      ],
      "execution_count": null,
      "outputs": [
        {
          "output_type": "stream",
          "text": [
            "[jovian] Detected Colab notebook...\u001b[0m\n",
            "[jovian] Uploading colab notebook to Jovian...\u001b[0m\n",
            "Committed successfully! https://jovian.ai/aaryaashay1848/ipl-dataset-analysis\n"
          ],
          "name": "stdout"
        },
        {
          "output_type": "execute_result",
          "data": {
            "application/vnd.google.colaboratory.intrinsic+json": {
              "type": "string"
            },
            "text/plain": [
              "'https://jovian.ai/aaryaashay1848/ipl-dataset-analysis'"
            ]
          },
          "metadata": {
            "tags": []
          },
          "execution_count": 60
        }
      ]
    },
    {
      "cell_type": "markdown",
      "metadata": {
        "id": "tN0nPFTGQj-U"
      },
      "source": [
        "## Data Preparation and Cleaning\n",
        "\n",
        "This section is the first and most important step, i.e. to clean and prepare data for consumption. Data Preparation and cleaning consumes the most amount of time for Data Engineers and Analysts.\n",
        "\n",
        "### Why do we need to prepare and clean data ?\n",
        "- To ensure that datasets has no missing values \n",
        "- Remove columns which does not make any sense in analysis process \n",
        "- Remove columns and data which could be a sensitive information \n",
        "- Remove invalid data which might be a part of dataset by mistake-\n",
        "- Create additional columns which might help in analzing data better \n",
        "- Merge data from various datasets to make a solid useful data \n",
        "\n",
        "### Steps used below \n",
        "- import and load pandas library\n",
        "- load the dataset and explore the schema of it \n",
        "\n"
      ]
    },
    {
      "cell_type": "markdown",
      "metadata": {
        "id": "ESpZRSltfyxV"
      },
      "source": [
        "## We import two datasets which are -\n",
        "- Raw IPL Team dataset - this dataset is a simple table having IPL team information like team name, team id and team short code. This is going to be a helper dataset which will be used as a part of analysis\n",
        "- Raw IP Match dataset - this dataset has information on all matches playes between different teams. It has a match by match detail, which teams played it, when was it played, who won, by how many runs or wickets, where was it played, etc. "
      ]
    },
    {
      "cell_type": "code",
      "metadata": {
        "id": "GjgUjlQLQj-U"
      },
      "source": [
        "import pandas as pd\n",
        "raw_ipl_team_df = pd.read_csv('./indian-premier-league-csv-dataset/Team.csv')\n",
        "raw_ipl_match_df = pd.read_csv('./indian-premier-league-csv-dataset/Match.csv')\n"
      ],
      "execution_count": null,
      "outputs": []
    },
    {
      "cell_type": "code",
      "metadata": {
        "colab": {
          "base_uri": "https://localhost:8080/"
        },
        "id": "C9UuKw6qQj-U",
        "outputId": "f49fdf64-ce9d-4117-a807-441ec297dbf0"
      },
      "source": [
        "# Let's print the Teams dataset \n",
        "print(raw_ipl_team_df)"
      ],
      "execution_count": null,
      "outputs": [
        {
          "output_type": "stream",
          "text": [
            "    Team_Id                    Team_Name Team_Short_Code\n",
            "0         1        Kolkata Knight Riders             KKR\n",
            "1         2  Royal Challengers Bangalore             RCB\n",
            "2         3          Chennai Super Kings             CSK\n",
            "3         4              Kings XI Punjab            KXIP\n",
            "4         5             Rajasthan Royals              RR\n",
            "5         6             Delhi Daredevils              DD\n",
            "6         7               Mumbai Indians              MI\n",
            "7         8              Deccan Chargers              DC\n",
            "8         9         Kochi Tuskers Kerala             KTK\n",
            "9        10                Pune Warriors              PW\n",
            "10       11          Sunrisers Hyderabad             SRH\n",
            "11       12      Rising Pune Supergiants             RPS\n",
            "12       13                Gujarat Lions              GL\n"
          ],
          "name": "stdout"
        }
      ]
    },
    {
      "cell_type": "markdown",
      "metadata": {
        "id": "dQjHX_v1hVcY"
      },
      "source": [
        "Get basic meta information both datasets / dataframes imported into pandas by using info function of pandas.\n",
        "info() will list number of entries, name of columns and their data type, null/or not null, size of dataset, etc."
      ]
    },
    {
      "cell_type": "code",
      "metadata": {
        "colab": {
          "base_uri": "https://localhost:8080/"
        },
        "id": "-OErLlZUQj-V",
        "outputId": "acb84e76-80f3-4f09-d6a6-d5a95a3cf822"
      },
      "source": [
        "# Information about raw_ipl_team_df - rows, columns and other details\n",
        "print(raw_ipl_team_df.info())"
      ],
      "execution_count": null,
      "outputs": [
        {
          "output_type": "stream",
          "text": [
            "<class 'pandas.core.frame.DataFrame'>\n",
            "RangeIndex: 13 entries, 0 to 12\n",
            "Data columns (total 3 columns):\n",
            " #   Column           Non-Null Count  Dtype \n",
            "---  ------           --------------  ----- \n",
            " 0   Team_Id          13 non-null     int64 \n",
            " 1   Team_Name        13 non-null     object\n",
            " 2   Team_Short_Code  13 non-null     object\n",
            "dtypes: int64(1), object(2)\n",
            "memory usage: 440.0+ bytes\n",
            "None\n"
          ],
          "name": "stdout"
        }
      ]
    },
    {
      "cell_type": "code",
      "metadata": {
        "colab": {
          "base_uri": "https://localhost:8080/"
        },
        "id": "JhKPuuopQj-V",
        "outputId": "c41d11f3-b900-447d-e831-2cab6d498707"
      },
      "source": [
        "# Information about raw raw_ipl_match_df \n",
        "print(raw_ipl_match_df.info())"
      ],
      "execution_count": null,
      "outputs": [
        {
          "output_type": "stream",
          "text": [
            "<class 'pandas.core.frame.DataFrame'>\n",
            "RangeIndex: 577 entries, 0 to 576\n",
            "Data columns (total 19 columns):\n",
            " #   Column               Non-Null Count  Dtype  \n",
            "---  ------               --------------  -----  \n",
            " 0   Match_Id             577 non-null    int64  \n",
            " 1   Match_Date           577 non-null    object \n",
            " 2   Team_Name_Id         577 non-null    int64  \n",
            " 3   Opponent_Team_Id     577 non-null    int64  \n",
            " 4   Season_Id            577 non-null    int64  \n",
            " 5   Venue_Name           577 non-null    object \n",
            " 6   Toss_Winner_Id       577 non-null    int64  \n",
            " 7   Toss_Decision        577 non-null    object \n",
            " 8   IS_Superover         577 non-null    int64  \n",
            " 9   IS_Result            577 non-null    int64  \n",
            " 10  Is_DuckWorthLewis    577 non-null    int64  \n",
            " 11  Win_Type             577 non-null    object \n",
            " 12  Won_By               568 non-null    float64\n",
            " 13  Match_Winner_Id      574 non-null    float64\n",
            " 14  Man_Of_The_Match_Id  574 non-null    float64\n",
            " 15  First_Umpire_Id      577 non-null    int64  \n",
            " 16  Second_Umpire_Id     577 non-null    int64  \n",
            " 17  City_Name            577 non-null    object \n",
            " 18  Host_Country         577 non-null    object \n",
            "dtypes: float64(3), int64(10), object(6)\n",
            "memory usage: 85.8+ KB\n",
            "None\n"
          ],
          "name": "stdout"
        }
      ]
    },
    {
      "cell_type": "markdown",
      "metadata": {
        "id": "OrP16daWiGBj"
      },
      "source": [
        "Let's merge two dataframes on teams id to get a single consolidated dataframe for further analysis. We will use merge function of pandas to get this done. \n",
        "- Please note that Team ID column in both dataframes has a different column name and we need to rename one to get this operation fixed.\n",
        "- raw_ipl_team_df has team id column as **\"Team_Id\"** and raw_ipl_match_team_df has team id column as **\"Team_Name_Id\"**\n",
        "- Let us rename the column of raw_ip_team_df \n"
      ]
    },
    {
      "cell_type": "code",
      "metadata": {
        "colab": {
          "base_uri": "https://localhost:8080/"
        },
        "id": "73cnrmdQQj-V",
        "outputId": "b21d71ca-ea3c-4dd4-b828-3bd52a80d7a3"
      },
      "source": [
        "# Rename \"Team_Id\" to \"Team_Name_Id\" in raw_ipl_team_df\n",
        "raw_ipl_team_df.rename(columns = {'Team_Id':'Team_Name_Id'}, inplace = True)\n",
        "print(raw_ipl_team_df.info())"
      ],
      "execution_count": null,
      "outputs": [
        {
          "output_type": "stream",
          "text": [
            "<class 'pandas.core.frame.DataFrame'>\n",
            "RangeIndex: 13 entries, 0 to 12\n",
            "Data columns (total 3 columns):\n",
            " #   Column           Non-Null Count  Dtype \n",
            "---  ------           --------------  ----- \n",
            " 0   Team_Name_Id     13 non-null     int64 \n",
            " 1   Team_Name        13 non-null     object\n",
            " 2   Team_Short_Code  13 non-null     object\n",
            "dtypes: int64(1), object(2)\n",
            "memory usage: 440.0+ bytes\n",
            "None\n"
          ],
          "name": "stdout"
        }
      ]
    },
    {
      "cell_type": "code",
      "metadata": {
        "colab": {
          "base_uri": "https://localhost:8080/"
        },
        "id": "M3gDywCyQj-V",
        "outputId": "aaeabecf-2030-419c-cf23-92c01339f010"
      },
      "source": [
        "# Now merge the two dataframes on column \"Team_Name_Id\" and print the info() of combined_df\n",
        "raw_ipl_combined_df = pd.merge(raw_ipl_match_df, raw_ipl_team_df, on='Team_Name_Id')\n",
        "print(raw_ipl_combined_df.info())"
      ],
      "execution_count": null,
      "outputs": [
        {
          "output_type": "stream",
          "text": [
            "<class 'pandas.core.frame.DataFrame'>\n",
            "Int64Index: 577 entries, 0 to 576\n",
            "Data columns (total 21 columns):\n",
            " #   Column               Non-Null Count  Dtype  \n",
            "---  ------               --------------  -----  \n",
            " 0   Match_Id             577 non-null    int64  \n",
            " 1   Match_Date           577 non-null    object \n",
            " 2   Team_Name_Id         577 non-null    int64  \n",
            " 3   Opponent_Team_Id     577 non-null    int64  \n",
            " 4   Season_Id            577 non-null    int64  \n",
            " 5   Venue_Name           577 non-null    object \n",
            " 6   Toss_Winner_Id       577 non-null    int64  \n",
            " 7   Toss_Decision        577 non-null    object \n",
            " 8   IS_Superover         577 non-null    int64  \n",
            " 9   IS_Result            577 non-null    int64  \n",
            " 10  Is_DuckWorthLewis    577 non-null    int64  \n",
            " 11  Win_Type             577 non-null    object \n",
            " 12  Won_By               568 non-null    float64\n",
            " 13  Match_Winner_Id      574 non-null    float64\n",
            " 14  Man_Of_The_Match_Id  574 non-null    float64\n",
            " 15  First_Umpire_Id      577 non-null    int64  \n",
            " 16  Second_Umpire_Id     577 non-null    int64  \n",
            " 17  City_Name            577 non-null    object \n",
            " 18  Host_Country         577 non-null    object \n",
            " 19  Team_Name            577 non-null    object \n",
            " 20  Team_Short_Code      577 non-null    object \n",
            "dtypes: float64(3), int64(10), object(8)\n",
            "memory usage: 99.2+ KB\n",
            "None\n"
          ],
          "name": "stdout"
        }
      ]
    },
    {
      "cell_type": "code",
      "metadata": {
        "colab": {
          "base_uri": "https://localhost:8080/"
        },
        "id": "3ZvHdBcXQj-V",
        "outputId": "f0153c0b-09fd-4b02-818a-3e9c737e0741"
      },
      "source": [
        "# Let us print sample data from dataset\n",
        "print(raw_ipl_combined_df.sample(n = 15))"
      ],
      "execution_count": null,
      "outputs": [
        {
          "output_type": "stream",
          "text": [
            "     Match_Id Match_Date  ...                    Team_Name  Team_Short_Code\n",
            "452    419158  13-Apr-10  ...          Chennai Super Kings              CSK\n",
            "299    548312   5-Apr-12  ...        Kolkata Knight Riders              KKR\n",
            "386    829792   7-May-15  ...             Rajasthan Royals               RR\n",
            "551    829812  15-May-15  ...          Sunrisers Hyderabad              SRH\n",
            "192    729314  27-Apr-14  ...             Delhi Daredevils               DD\n",
            "540    729306  25-Apr-14  ...          Sunrisers Hyderabad              SRH\n",
            "371    598054   7-May-13  ...             Rajasthan Royals               RR\n",
            "468    548348  28-Apr-12  ...          Chennai Super Kings              CSK\n",
            "363    548370  13-May-12  ...             Rajasthan Royals               RR\n",
            "31     419169  24-Apr-10  ...  Royal Challengers Bangalore              RCB\n",
            "379    734016  15-May-14  ...             Rajasthan Royals               RR\n",
            "380    734022  19-May-14  ...             Rajasthan Royals               RR\n",
            "0      335987  18-Apr-08  ...  Royal Challengers Bangalore              RCB\n",
            "225    419143   3-Apr-10  ...               Mumbai Indians               MI\n",
            "15     392218   7-May-09  ...  Royal Challengers Bangalore              RCB\n",
            "\n",
            "[15 rows x 21 columns]\n"
          ],
          "name": "stdout"
        }
      ]
    },
    {
      "cell_type": "markdown",
      "metadata": {
        "id": "4xhmFEoxkCuK"
      },
      "source": [
        "Let us remove a few columns which are not required for our analysis purpose. We will remove following columns from the combined dataframe - \n",
        "- Is_DuckWorthLewis \n",
        "- First_Umpire_Id\n",
        "- Second_Umpire_Id\n",
        "- Man_Of_The_Match_Id\n",
        "- Match_Date"
      ]
    },
    {
      "cell_type": "code",
      "metadata": {
        "colab": {
          "base_uri": "https://localhost:8080/"
        },
        "id": "i4NFRj8mkngF",
        "outputId": "d2a1a2ec-0b2f-4b82-d279-46528214681b"
      },
      "source": [
        "# Dropping columns of no use and saving the output as a new dataframe which is to be used for data analysis\n",
        "combined_ipl_df = raw_ipl_combined_df.drop(columns =['Is_DuckWorthLewis', 'First_Umpire_Id', 'Second_Umpire_Id', 'Man_Of_The_Match_Id', 'Match_Date'])\n",
        "# Confirm on delete columns\n",
        "print(combined_ipl_df.info())"
      ],
      "execution_count": null,
      "outputs": [
        {
          "output_type": "stream",
          "text": [
            "<class 'pandas.core.frame.DataFrame'>\n",
            "Int64Index: 577 entries, 0 to 576\n",
            "Data columns (total 16 columns):\n",
            " #   Column            Non-Null Count  Dtype  \n",
            "---  ------            --------------  -----  \n",
            " 0   Match_Id          577 non-null    int64  \n",
            " 1   Team_Name_Id      577 non-null    int64  \n",
            " 2   Opponent_Team_Id  577 non-null    int64  \n",
            " 3   Season_Id         577 non-null    int64  \n",
            " 4   Venue_Name        577 non-null    object \n",
            " 5   Toss_Winner_Id    577 non-null    int64  \n",
            " 6   Toss_Decision     577 non-null    object \n",
            " 7   IS_Superover      577 non-null    int64  \n",
            " 8   IS_Result         577 non-null    int64  \n",
            " 9   Win_Type          577 non-null    object \n",
            " 10  Won_By            568 non-null    float64\n",
            " 11  Match_Winner_Id   574 non-null    float64\n",
            " 12  City_Name         577 non-null    object \n",
            " 13  Host_Country      577 non-null    object \n",
            " 14  Team_Name         577 non-null    object \n",
            " 15  Team_Short_Code   577 non-null    object \n",
            "dtypes: float64(2), int64(7), object(7)\n",
            "memory usage: 76.6+ KB\n",
            "None\n"
          ],
          "name": "stdout"
        }
      ]
    },
    {
      "cell_type": "markdown",
      "metadata": {
        "id": "fuIxpJzYqnyK"
      },
      "source": [
        "It is observed that a few columns like Team ID, Match ID, etc. are integer format and will provide wrong information in terms of sum, mean, etc. ID has to be a string and so we need to change the type of these columns to ensure that we dont get wrong information while analysis. We can use the following syntax to get this done - \n",
        "- df['DataFrame Column'] = df['DataFrame Column'].apply(str)"
      ]
    },
    {
      "cell_type": "code",
      "metadata": {
        "colab": {
          "base_uri": "https://localhost:8080/"
        },
        "id": "6logR-kLrOAi",
        "outputId": "4ad99cd9-433a-4fe7-9680-da33d7e85a89"
      },
      "source": [
        "# Change below columns from integer to string \n",
        "combined_ipl_df['Team_Name_Id'] = combined_ipl_df['Team_Name_Id'].apply(str)\n",
        "combined_ipl_df['Match_Id'] = combined_ipl_df['Match_Id'].apply(str)\n",
        "combined_ipl_df['Opponent_Team_Id'] = combined_ipl_df['Opponent_Team_Id'].apply(str)\n",
        "combined_ipl_df['Toss_Winner_Id'] = combined_ipl_df['Toss_Winner_Id'].apply(str)\n",
        "combined_ipl_df['Season_Id'] = combined_ipl_df['Season_Id'].apply(str)\n",
        "combined_ipl_df['Match_Winner_Id'] = combined_ipl_df['Match_Winner_Id'].apply(str)\n",
        "\n",
        "# Print the information to confirm the changes \n",
        "print(combined_ipl_df.info())"
      ],
      "execution_count": null,
      "outputs": [
        {
          "output_type": "stream",
          "text": [
            "<class 'pandas.core.frame.DataFrame'>\n",
            "Int64Index: 577 entries, 0 to 576\n",
            "Data columns (total 16 columns):\n",
            " #   Column            Non-Null Count  Dtype  \n",
            "---  ------            --------------  -----  \n",
            " 0   Match_Id          577 non-null    object \n",
            " 1   Team_Name_Id      577 non-null    object \n",
            " 2   Opponent_Team_Id  577 non-null    object \n",
            " 3   Season_Id         577 non-null    object \n",
            " 4   Venue_Name        577 non-null    object \n",
            " 5   Toss_Winner_Id    577 non-null    object \n",
            " 6   Toss_Decision     577 non-null    object \n",
            " 7   IS_Superover      577 non-null    int64  \n",
            " 8   IS_Result         577 non-null    int64  \n",
            " 9   Win_Type          577 non-null    object \n",
            " 10  Won_By            568 non-null    float64\n",
            " 11  Match_Winner_Id   577 non-null    object \n",
            " 12  City_Name         577 non-null    object \n",
            " 13  Host_Country      577 non-null    object \n",
            " 14  Team_Name         577 non-null    object \n",
            " 15  Team_Short_Code   577 non-null    object \n",
            "dtypes: float64(1), int64(2), object(13)\n",
            "memory usage: 76.6+ KB\n",
            "None\n"
          ],
          "name": "stdout"
        }
      ]
    },
    {
      "cell_type": "markdown",
      "metadata": {
        "id": "ARNf6zB2mGsr"
      },
      "source": [
        "Use describe() function to get more readymade statistics of the dataframe. describe() function will provide following relevant information - \n",
        "- count of rows \n",
        "- list of columns \n",
        "- mathematical mean, std, min, max \n",
        "- shape of dataframe"
      ]
    },
    {
      "cell_type": "code",
      "metadata": {
        "colab": {
          "base_uri": "https://localhost:8080/"
        },
        "id": "UB82OcNnmMfU",
        "outputId": "7fbfdbe4-68d9-416f-8319-279fb7f557ff"
      },
      "source": [
        "print(combined_ipl_df.describe())"
      ],
      "execution_count": null,
      "outputs": [
        {
          "output_type": "stream",
          "text": [
            "       IS_Superover   IS_Result      Won_By\n",
            "count    577.000000  577.000000  568.000000\n",
            "mean       0.010399    0.994801   17.350352\n",
            "std        0.101530    0.071981   21.908229\n",
            "min        0.000000    0.000000    1.000000\n",
            "25%        0.000000    1.000000    6.000000\n",
            "50%        0.000000    1.000000    8.000000\n",
            "75%        0.000000    1.000000   21.000000\n",
            "max        1.000000    1.000000  144.000000\n"
          ],
          "name": "stdout"
        }
      ]
    },
    {
      "cell_type": "code",
      "metadata": {
        "id": "LECZ0fATQj-V"
      },
      "source": [
        "import jovian"
      ],
      "execution_count": null,
      "outputs": []
    },
    {
      "cell_type": "code",
      "metadata": {
        "colab": {
          "base_uri": "https://localhost:8080/",
          "height": 86
        },
        "id": "Q1yS4gfyQj-W",
        "outputId": "7b47d52d-34ce-408e-f816-586f527f1ef3"
      },
      "source": [
        "jovian.commit()"
      ],
      "execution_count": null,
      "outputs": [
        {
          "output_type": "stream",
          "text": [
            "[jovian] Detected Colab notebook...\u001b[0m\n",
            "[jovian] Uploading colab notebook to Jovian...\u001b[0m\n",
            "Committed successfully! https://jovian.ai/aaryaashay1848/ipl-dataset-analysis\n"
          ],
          "name": "stdout"
        },
        {
          "output_type": "execute_result",
          "data": {
            "application/vnd.google.colaboratory.intrinsic+json": {
              "type": "string"
            },
            "text/plain": [
              "'https://jovian.ai/aaryaashay1848/ipl-dataset-analysis'"
            ]
          },
          "metadata": {
            "tags": []
          },
          "execution_count": 72
        }
      ]
    },
    {
      "cell_type": "markdown",
      "metadata": {
        "id": "9F7iQt_4Qj-W"
      },
      "source": [
        "## Exploratory Analysis and Visualization\n",
        "\n",
        "Let's start with the core analysis of our final dataset we have derieved after data preparation and cleaning activity. We will get sum, mean and other interesting stats and will plot graphs for some interesting insights received from the dataset. \n",
        "\n"
      ]
    },
    {
      "cell_type": "markdown",
      "metadata": {
        "id": "jCEgiaf3Qj-W"
      },
      "source": [
        "Let's begin by importing`matplotlib.pyplot` and `seaborn`."
      ]
    },
    {
      "cell_type": "code",
      "metadata": {
        "colab": {
          "base_uri": "https://localhost:8080/",
          "height": 86
        },
        "id": "aYhj8a2vQj-X",
        "outputId": "4d2c235a-bec6-4c38-a049-c0b0d61c3dd8"
      },
      "source": [
        "import seaborn as sns\n",
        "import matplotlib\n",
        "import matplotlib.pyplot as plt\n",
        "%matplotlib inline\n",
        "\n",
        "sns.set_style('darkgrid')\n",
        "matplotlib.rcParams['font.size'] = 14\n",
        "matplotlib.rcParams['figure.figsize'] = (9, 5)\n",
        "matplotlib.rcParams['figure.facecolor'] = '#00000000'\n",
        "jovian.commit()"
      ],
      "execution_count": null,
      "outputs": [
        {
          "output_type": "stream",
          "text": [
            "[jovian] Detected Colab notebook...\u001b[0m\n",
            "[jovian] Uploading colab notebook to Jovian...\u001b[0m\n",
            "Committed successfully! https://jovian.ai/aaryaashay1848/ipl-dataset-analysis\n"
          ],
          "name": "stdout"
        },
        {
          "output_type": "execute_result",
          "data": {
            "application/vnd.google.colaboratory.intrinsic+json": {
              "type": "string"
            },
            "text/plain": [
              "'https://jovian.ai/aaryaashay1848/ipl-dataset-analysis'"
            ]
          },
          "metadata": {
            "tags": []
          },
          "execution_count": 35
        }
      ]
    },
    {
      "cell_type": "markdown",
      "metadata": {
        "id": "Mwb5aly6Qj-X"
      },
      "source": [
        "Let us get the list of cities where IPL matches were placed and plot a bargraph to get a visualization of which city got highest matches to host among all. To get this done we need to perform the following steps - \n",
        "\n",
        "- Count the number of matches hosted by each city - We use value_count() function to get the series of cities and their number of occurences \n",
        "- use the output count series to plot the graph which provides following insights"
      ]
    },
    {
      "cell_type": "code",
      "metadata": {
        "colab": {
          "base_uri": "https://localhost:8080/",
          "height": 457
        },
        "id": "NPymo-8TQj-X",
        "outputId": "343aeec0-0342-43ab-919f-c4c1c3a549a0"
      },
      "source": [
        "city_match_count = combined_ipl_df.City_Name.value_counts()\n",
        "\n",
        "city_match_count.plot(kind = 'bar')\n",
        "plt.xlabel(\"Number of matches hosted\")\n",
        "plt.ylabel(\"Name of Cities where IPL got hosted\")\n",
        "plt.title(\"IPL Matches hosted in various cities\");\n"
      ],
      "execution_count": null,
      "outputs": [
        {
          "output_type": "display_data",
          "data": {
            "image/png": "[encoded data removed]",
            "text/plain": [
              "<Figure size 648x360 with 1 Axes>"
            ]
          },
          "metadata": {
            "tags": [],
            "needs_background": "light"
          }
        }
      ]
    },
    {
      "cell_type": "markdown",
      "metadata": {
        "id": "FcaCPlWgvIns"
      },
      "source": [
        "The above graph clearly indicated that Mumbai got the maximum number of matches hosted while Kanpur and Indore got least number of matches to host"
      ]
    },
    {
      "cell_type": "code",
      "metadata": {
        "colab": {
          "base_uri": "https://localhost:8080/",
          "height": 86
        },
        "id": "tzLNAWpxQj-X",
        "outputId": "887bef22-ab75-4a0a-8766-d2822b491ce6"
      },
      "source": [
        "jovian.commit()"
      ],
      "execution_count": null,
      "outputs": [
        {
          "output_type": "stream",
          "text": [
            "[jovian] Detected Colab notebook...\u001b[0m\n",
            "[jovian] Uploading colab notebook to Jovian...\u001b[0m\n",
            "Committed successfully! https://jovian.ai/aaryaashay1848/ipl-dataset-analysis\n"
          ],
          "name": "stdout"
        },
        {
          "output_type": "execute_result",
          "data": {
            "application/vnd.google.colaboratory.intrinsic+json": {
              "type": "string"
            },
            "text/plain": [
              "'https://jovian.ai/aaryaashay1848/ipl-dataset-analysis'"
            ]
          },
          "metadata": {
            "tags": []
          },
          "execution_count": 115
        }
      ]
    },
    {
      "cell_type": "markdown",
      "metadata": {
        "id": "qFu7Zv66Qj-X"
      },
      "source": [
        "Let us now get the list of teams and the number of matches each team played in 9 seasons of data we have. To get this done we need to do the following - \n",
        "- Count the number of occurences of each team name in \"Tean_Name\" column which will return a series \n",
        "- Plot the graph using the series "
      ]
    },
    {
      "cell_type": "code",
      "metadata": {
        "colab": {
          "base_uri": "https://localhost:8080/",
          "height": 550
        },
        "id": "De1tavn1Qj-X",
        "outputId": "d838ee94-b395-4e83-ef39-373aa9734c15"
      },
      "source": [
        "team_match_count = combined_ipl_df['Team_Name'].value_counts()\n",
        "team_match_count.plot(kind = 'bar')\n",
        "plt.xlabel(\"Various teams which featured in the IPL so far\")\n",
        "plt.ylabel(\"Number of match\")\n",
        "plt.title(\"Number of matches played by IPL Teams\");\n"
      ],
      "execution_count": null,
      "outputs": [
        {
          "output_type": "display_data",
          "data": {
            "image/png": "[encoded data removed]",
            "text/plain": [
              "<Figure size 648x360 with 1 Axes>"
            ]
          },
          "metadata": {
            "tags": [],
            "needs_background": "light"
          }
        }
      ]
    },
    {
      "cell_type": "markdown",
      "metadata": {
        "id": "umtHHXh_xNpm"
      },
      "source": [
        "The above graph clearly indicates that Royal Challenges Bangalore played most number of matches and Kochi Tuskers Kerela played the least number of matches in 9 seasons of IPL"
      ]
    },
    {
      "cell_type": "code",
      "metadata": {
        "colab": {
          "base_uri": "https://localhost:8080/",
          "height": 86
        },
        "id": "YsbSIsuiQj-Y",
        "outputId": "394b0d6d-f503-4acf-de16-834929d13f49"
      },
      "source": [
        "jovian.commit()"
      ],
      "execution_count": null,
      "outputs": [
        {
          "output_type": "stream",
          "text": [
            "[jovian] Detected Colab notebook...\u001b[0m\n",
            "[jovian] Uploading colab notebook to Jovian...\u001b[0m\n",
            "Committed successfully! https://jovian.ai/aaryaashay1848/ipl-dataset-analysis\n"
          ],
          "name": "stdout"
        },
        {
          "output_type": "execute_result",
          "data": {
            "application/vnd.google.colaboratory.intrinsic+json": {
              "type": "string"
            },
            "text/plain": [
              "'https://jovian.ai/aaryaashay1848/ipl-dataset-analysis'"
            ]
          },
          "metadata": {
            "tags": []
          },
          "execution_count": 122
        }
      ]
    },
    {
      "cell_type": "markdown",
      "metadata": {
        "id": "3ve7L6t2Qj-Y"
      },
      "source": [
        "Let us now see through graph on the number of matches won by batting first or batting second. To get this done we need to do the following - \n",
        "- Get the count of matches won by batting first, i.e. matches won by runs \n",
        "- Get the count of matches won by batting second,i.e. matches won by wickets \n",
        "- Plot the two values on pie chart"
      ]
    },
    {
      "cell_type": "code",
      "metadata": {
        "colab": {
          "base_uri": "https://localhost:8080/",
          "height": 340
        },
        "id": "aZruJcowQj-Y",
        "outputId": "54daa47b-f932-46ba-9a75-3a173cb7a905"
      },
      "source": [
        "# Count the number of matches won by batting second \n",
        "number_of_matches_won_batting_second = combined_ipl_df[combined_ipl_df.Win_Type == \"by wickets\"].count()['Win_Type']\n",
        "\n",
        "# Count the number of matches won by batting first\n",
        "number_of_matches_won_batting_first = combined_ipl_df[combined_ipl_df.Win_Type == \"by runs\"].count()['Win_Type']\n",
        "\n",
        "\n",
        "plt.pie([number_of_matches_won_batting_first, number_of_matches_won_batting_second], labels = [\"Batting First\", \"Batting second\"])\n",
        "plt.title(\"Matches Won - Batting First vs Batting Second\")"
      ],
      "execution_count": null,
      "outputs": [
        {
          "output_type": "execute_result",
          "data": {
            "text/plain": [
              "Text(0.5, 1.0, 'Matches Won - Batting First vs Batting Second')"
            ]
          },
          "metadata": {
            "tags": []
          },
          "execution_count": 149
        },
        {
          "output_type": "display_data",
          "data": {
            "image/png": "[encoded data removed]",
            "text/plain": [
              "<Figure size 648x360 with 1 Axes>"
            ]
          },
          "metadata": {
            "tags": []
          }
        }
      ]
    },
    {
      "cell_type": "code",
      "metadata": {
        "colab": {
          "base_uri": "https://localhost:8080/",
          "height": 86
        },
        "id": "gu2lw902Qj-Y",
        "outputId": "7e1dc50c-6e36-4d2d-dce9-4723e748a93c"
      },
      "source": [
        "jovian.commit()"
      ],
      "execution_count": null,
      "outputs": [
        {
          "output_type": "stream",
          "text": [
            "[jovian] Detected Colab notebook...\u001b[0m\n",
            "[jovian] Uploading colab notebook to Jovian...\u001b[0m\n",
            "Committed successfully! https://jovian.ai/aaryaashay1848/ipl-dataset-analysis\n"
          ],
          "name": "stdout"
        },
        {
          "output_type": "execute_result",
          "data": {
            "application/vnd.google.colaboratory.intrinsic+json": {
              "type": "string"
            },
            "text/plain": [
              "'https://jovian.ai/aaryaashay1848/ipl-dataset-analysis'"
            ]
          },
          "metadata": {
            "tags": []
          },
          "execution_count": 150
        }
      ]
    },
    {
      "cell_type": "markdown",
      "metadata": {
        "id": "iNZFglxaQj-Y"
      },
      "source": [
        "Let us now get something more difficult and complex. Let us get a graph for number of matches won by each time. This is difficult because we dont have any column in dataframe with the name of the winner. What we have is the Match Winner ID which is to be mapped with the dataframe having details related to the teams. We will use apply() function to get our job done. \n",
        "Psuedo Steps to acheive the requirements are given below - \n",
        "- Create a column \"Winner_Team\" and place the value of Winner Team if the Team ID is equal to Match Winner ID \n",
        "- Now we will have team name for all the rows where value of Team ID is equal to Match winner ID\n",
        "- In the case where opponent team won the match, we need to get opponent team ID and put the value of ipl_teams_dataframe on the index \n",
        "\n",
        "Please read the comments in the source code to understand each step\n"
      ]
    },
    {
      "cell_type": "code",
      "metadata": {
        "colab": {
          "base_uri": "https://localhost:8080/",
          "height": 547
        },
        "id": "qASYUNQFQj-Y",
        "outputId": "d6222e1a-c4c5-425e-9307-c50d7f68456f"
      },
      "source": [
        "# define a function \"find_match_winner\" which takes dataframe as an input \n",
        "def find_match_winner(combined_df):\n",
        "\n",
        "  # Get the values of team_name_id, match_winner_id and opponent_team_id and convert them into float for comparison\n",
        "  team_name_id = float(combined_df['Team_Name_Id'])\n",
        "  match_winner_id = float(combined_df['Match_Winner_Id'])\n",
        "  opponent_team_id = float(combined_df['Opponent_Team_Id'])\n",
        "\n",
        "  # Check if team name id is euqal to match winner id \n",
        "  if (team_name_id == match_winner_id):\n",
        "    # return the value of team name in the row which will get filled in the column Winner Team\n",
        "    return combined_df['Team_Name']\n",
        "\n",
        "  # Check if opponent team id is euqal to match winner id \n",
        "  elif (match_winner_id == opponent_team_id):\n",
        "    # return the value of team name available at location opponent_team_id - 1 from dataframe raw_ipl_df\n",
        "    return raw_ipl_team_df.loc[int(opponent_team_id) - 1]['Team_Name']\n",
        "  else:\n",
        "    # Place null for no result or a tie\n",
        "    return \"NULL\"\n",
        "    \n",
        "# Call apply function on every row of the dataframe \n",
        "combined_ipl_df['Winner_Team'] = combined_ipl_df.apply(find_match_winner, axis = 1)\n",
        "\n",
        "# Count the unique occurences of each Winning Team \n",
        "team_match_win_count = combined_ipl_df['Winner_Team'].value_counts()\n",
        "team_match_win_count.plot(kind='bar')\n",
        "plt.xlabel(\"Teams\")\n",
        "plt.ylabel(\"Number of matches\")"
      ],
      "execution_count": null,
      "outputs": [
        {
          "output_type": "execute_result",
          "data": {
            "text/plain": [
              "Text(0, 0.5, 'Number of matches')"
            ]
          },
          "metadata": {
            "tags": []
          },
          "execution_count": 242
        },
        {
          "output_type": "display_data",
          "data": {
            "image/png": "[encoded data removed]",
            "text/plain": [
              "<Figure size 648x360 with 1 Axes>"
            ]
          },
          "metadata": {
            "tags": [],
            "needs_background": "light"
          }
        }
      ]
    },
    {
      "cell_type": "markdown",
      "metadata": {
        "id": "m3LoURpnQj-Y"
      },
      "source": [
        "Let us know explore the frequency of matches won by more than 10 runs and less than 10 runs. To get this done, we will follow the steps as given - \n",
        "- count the events of win by more than 75 runs by using conditions on column WinType and Wonby > 10\n",
        "- count the events of win by less than 75 runs by using conditions on column WinType and Wonby < 10\n",
        "- Plot the pie graph"
      ]
    },
    {
      "cell_type": "code",
      "metadata": {
        "colab": {
          "base_uri": "https://localhost:8080/",
          "height": 323
        },
        "id": "rxOP-P2HQj-Z",
        "outputId": "1a3a0d4c-5749-4e75-b90b-9e8eed61f249"
      },
      "source": [
        "# Get the number of matches won batting first and by more than or euqal to 10 runs \n",
        "number_of_matches_won_by_more_than_10_runs = combined_ipl_df[(combined_ipl_df.Win_Type == \"by runs\") & (combined_ipl_df.Won_By >= 10)].count()['Win_Type']\n",
        "\n",
        "# Get the number of matches won batting first and by less than 10 runs \n",
        "number_of_matches_won_by_less_than_10_runs = combined_ipl_df[(combined_ipl_df.Win_Type == \"by runs\") & (combined_ipl_df.Won_By < 10)].count()['Win_Type']\n",
        "\n",
        "# Plot the pie chart\n",
        "plt.pie([number_of_matches_won_by_more_than_10_runs, number_of_matches_won_by_less_than_10_runs], labels = [\"Won by more than 10 runs\", \"Won by less than 10 runs\"])\n",
        "plt.title(\"Matches Won - By More than 10 runs vs By less than 10 runs\");"
      ],
      "execution_count": null,
      "outputs": [
        {
          "output_type": "display_data",
          "data": {
            "image/png": "[encoded data removed]",
            "text/plain": [
              "<Figure size 648x360 with 1 Axes>"
            ]
          },
          "metadata": {
            "tags": []
          }
        }
      ]
    },
    {
      "cell_type": "markdown",
      "metadata": {
        "id": "VwVS4UbOQj-Z"
      },
      "source": [
        "Let us save and upload our work to Jovian before continuing"
      ]
    },
    {
      "cell_type": "code",
      "metadata": {
        "id": "WgvOYmYfQj-Z"
      },
      "source": [
        "import jovian"
      ],
      "execution_count": null,
      "outputs": []
    },
    {
      "cell_type": "code",
      "metadata": {
        "colab": {
          "base_uri": "https://localhost:8080/",
          "height": 86
        },
        "id": "ZnNBkCa8Qj-Z",
        "outputId": "47f1954c-5971-4dda-9966-55aee9859f6f"
      },
      "source": [
        "jovian.commit()"
      ],
      "execution_count": null,
      "outputs": [
        {
          "output_type": "stream",
          "text": [
            "[jovian] Detected Colab notebook...\u001b[0m\n",
            "[jovian] Uploading colab notebook to Jovian...\u001b[0m\n",
            "Committed successfully! https://jovian.ai/aaryaashay1848/ipl-dataset-analysis\n"
          ],
          "name": "stdout"
        },
        {
          "output_type": "execute_result",
          "data": {
            "application/vnd.google.colaboratory.intrinsic+json": {
              "type": "string"
            },
            "text/plain": [
              "'https://jovian.ai/aaryaashay1848/ipl-dataset-analysis'"
            ]
          },
          "metadata": {
            "tags": []
          },
          "execution_count": 256
        }
      ]
    },
    {
      "cell_type": "markdown",
      "metadata": {
        "id": "iNe0OWRaQj-Z"
      },
      "source": [
        "## Asking and Answering Questions\n",
        "\n",
        "The below section will now answer critical and interesting questions based on the analysis done on the dataset. This is the most fruitful part of data analysis which is to answer the questions asked by business. We will put 5 interesting questions and will try to answer them based on our analysis on IPL Data\n",
        "\n"
      ]
    },
    {
      "cell_type": "markdown",
      "metadata": {
        "id": "jBOAX6fJQj-a"
      },
      "source": [
        "#### Q1: Which team won the match by most number of runs in 9 seasons of IPL ? Asnwer the following - \n",
        "- Team which won by most number of runs \n",
        "- By how many runs \n",
        "- Where was the match played "
      ]
    },
    {
      "cell_type": "code",
      "metadata": {
        "id": "4u65AH0bQj-a"
      },
      "source": [
        "winner_team = combined_ipl_df.max()['Winner_Team']\n",
        "by_runs = combined_ipl_df.max()['Won_By']\n",
        "venue = combined_ipl_df.max()['City_Name']"
      ],
      "execution_count": null,
      "outputs": []
    },
    {
      "cell_type": "code",
      "metadata": {
        "colab": {
          "base_uri": "https://localhost:8080/"
        },
        "id": "73Nig33vQj-a",
        "outputId": "e8f628ac-6523-4d96-bb9b-5db82f72f5ab"
      },
      "source": [
        "print(\"{} is the team to win a match by most number of runs\".format(winner_team))"
      ],
      "execution_count": null,
      "outputs": [
        {
          "output_type": "stream",
          "text": [
            "Sunrisers Hyderabad is the team to win a match by most number of runs\n"
          ],
          "name": "stdout"
        }
      ]
    },
    {
      "cell_type": "code",
      "metadata": {
        "colab": {
          "base_uri": "https://localhost:8080/"
        },
        "id": "3TulujSwQj-a",
        "outputId": "3b69f04b-5f4a-44ba-f09d-7fcdeee0dcd1"
      },
      "source": [
        "print(\"They won the match by {} runs\".format(int(by_runs)))"
      ],
      "execution_count": null,
      "outputs": [
        {
          "output_type": "stream",
          "text": [
            "They won the match by 144 runs\n"
          ],
          "name": "stdout"
        }
      ]
    },
    {
      "cell_type": "code",
      "metadata": {
        "colab": {
          "base_uri": "https://localhost:8080/",
          "height": 103
        },
        "id": "qFiIctaXq6x2",
        "outputId": "a3b0b7eb-d40d-45fc-e819-6860e9b9fbcb"
      },
      "source": [
        "print(\"Match was played in {}\". format(venue))\n"
      ],
      "execution_count": null,
      "outputs": [
        {
          "output_type": "stream",
          "text": [
            "Match was played in Visakhapatnam\n",
            "[jovian] Detected Colab notebook...\u001b[0m\n",
            "[jovian] Uploading colab notebook to Jovian...\u001b[0m\n",
            "Committed successfully! https://jovian.ai/aaryaashay1848/ipl-dataset-analysis\n"
          ],
          "name": "stdout"
        },
        {
          "output_type": "execute_result",
          "data": {
            "application/vnd.google.colaboratory.intrinsic+json": {
              "type": "string"
            },
            "text/plain": [
              "'https://jovian.ai/aaryaashay1848/ipl-dataset-analysis'"
            ]
          },
          "metadata": {
            "tags": []
          },
          "execution_count": 268
        }
      ]
    },
    {
      "cell_type": "markdown",
      "metadata": {
        "id": "LrtcBwUnQj-a"
      },
      "source": [
        "#### Q2: How many matches were tied or with no result  in 9 IPL Seasons ?"
      ]
    },
    {
      "cell_type": "code",
      "metadata": {
        "id": "WK452jZPQj-b"
      },
      "source": [
        "# Number of matches tied \n",
        "tied_count = combined_ipl_df[combined_ipl_df.Win_Type == \"Tie\"].count()['Win_Type']\n",
        "\n",
        "# Number of matches with no result \n",
        "no_result = combined_ipl_df[combined_ipl_df.Win_Type == \"No Result\"].count()['Win_Type']\n"
      ],
      "execution_count": null,
      "outputs": []
    },
    {
      "cell_type": "code",
      "metadata": {
        "colab": {
          "base_uri": "https://localhost:8080/"
        },
        "id": "kKl_UdqiQj-b",
        "outputId": "fceeb54d-1870-4e27-ff74-4b5ce20d81a2"
      },
      "source": [
        "print(\"Number of Tied Matches in  9 IPL seasons = \", tied_count )\n"
      ],
      "execution_count": null,
      "outputs": [
        {
          "output_type": "stream",
          "text": [
            "Number of Tied Matches in  9 IPL seasons =  6\n",
            "Number of matches with no result in 9 IPL seasons =  3\n"
          ],
          "name": "stdout"
        }
      ]
    },
    {
      "cell_type": "code",
      "metadata": {
        "colab": {
          "base_uri": "https://localhost:8080/"
        },
        "id": "QZtu5lzQQj-b",
        "outputId": "387e361b-745a-4a49-a9ef-0faa85aa5bdf"
      },
      "source": [
        "print(\"Number of matches with no result in 9 IPL seasons = \", no_result)"
      ],
      "execution_count": null,
      "outputs": [
        {
          "output_type": "stream",
          "text": [
            "Number of matches with no result in 9 IPL seasons =  3\n"
          ],
          "name": "stdout"
        }
      ]
    },
    {
      "cell_type": "markdown",
      "metadata": {
        "id": "aL-SOn_LQj-b"
      },
      "source": [
        "#### Q3: What is the probability of a match getting tied or no result ?\n"
      ]
    },
    {
      "cell_type": "code",
      "metadata": {
        "id": "0fEKy8msQj-b"
      },
      "source": [
        "probability_of_tied_match = combined_ipl_df[combined_ipl_df.Win_Type == \"Tie\"].count()['Win_Type'] / combined_ipl_df.count()['Win_Type']\n",
        "probability_of_no_result = combined_ipl_df[combined_ipl_df.Win_Type == \"No Result\"].count()['Win_Type'] / combined_ipl_df.count()['Win_Type']"
      ],
      "execution_count": null,
      "outputs": []
    },
    {
      "cell_type": "code",
      "metadata": {
        "colab": {
          "base_uri": "https://localhost:8080/"
        },
        "id": "BJkGX7R1Qj-b",
        "outputId": "b3c3f59d-1c4f-42ce-99dc-1a1c3bd14957"
      },
      "source": [
        "print(\"Probability of a match getting tied is - \", probability_of_tied_match)\n",
        "print(\"Probability of a match having no result is - \", probability_of_no_result)"
      ],
      "execution_count": null,
      "outputs": [
        {
          "output_type": "stream",
          "text": [
            "Probability of a match getting tied is -  0.010398613518197574\n",
            "Probability of a match having no result is -  0.005199306759098787\n"
          ],
          "name": "stdout"
        }
      ]
    },
    {
      "cell_type": "code",
      "metadata": {
        "colab": {
          "base_uri": "https://localhost:8080/",
          "height": 86
        },
        "id": "MkDiDPZ_Qj-b",
        "outputId": "b3af8650-aeb9-4e8d-b1aa-f8326f725aef"
      },
      "source": [
        "jovian.commit()"
      ],
      "execution_count": null,
      "outputs": [
        {
          "output_type": "stream",
          "text": [
            "[jovian] Detected Colab notebook...\u001b[0m\n",
            "[jovian] Uploading colab notebook to Jovian...\u001b[0m\n",
            "Committed successfully! https://jovian.ai/aaryaashay1848/ipl-dataset-analysis\n"
          ],
          "name": "stdout"
        },
        {
          "output_type": "execute_result",
          "data": {
            "application/vnd.google.colaboratory.intrinsic+json": {
              "type": "string"
            },
            "text/plain": [
              "'https://jovian.ai/aaryaashay1848/ipl-dataset-analysis'"
            ]
          },
          "metadata": {
            "tags": []
          },
          "execution_count": 278
        }
      ]
    },
    {
      "cell_type": "markdown",
      "metadata": {
        "id": "leCaHJIEQj-b"
      },
      "source": [
        "#### Q4: What is the probability of a close match when a team wins batting first ?\n",
        "Let us say that a close match is when a team wins by a margin of less than 10 runs. We will calculate the probabiliy of a team winning a match by less than 10 runs"
      ]
    },
    {
      "cell_type": "code",
      "metadata": {
        "id": "_COl9jp1Qj-c"
      },
      "source": [
        "# Get the number of matches won batting first and by less than 75 runs \n",
        "number_of_matches_won_by_less_than_10_runs = combined_ipl_df[(combined_ipl_df.Win_Type == \"by runs\") & (combined_ipl_df.Won_By < 10)].count()['Win_Type']\n",
        "\n",
        "probability = number_of_matches_won_by_less_than_10_runs / combined_ipl_df[combined_ipl_df.Win_Type == 'by runs'].count()['Win_Type']"
      ],
      "execution_count": null,
      "outputs": []
    },
    {
      "cell_type": "code",
      "metadata": {
        "colab": {
          "base_uri": "https://localhost:8080/"
        },
        "id": "8uYqnEYyQj-c",
        "outputId": "31475984-b5f0-465d-b253-8c2f9a702c54"
      },
      "source": [
        "print(\"Probability of a close match (a team winning by a margin of less than 10 runs) is \", probability)"
      ],
      "execution_count": null,
      "outputs": [
        {
          "output_type": "stream",
          "text": [
            "Probability of a close match (a team winning by a margin of less than 10 runs) is  0.20306513409961685\n"
          ],
          "name": "stdout"
        }
      ]
    },
    {
      "cell_type": "code",
      "metadata": {
        "colab": {
          "base_uri": "https://localhost:8080/",
          "height": 86
        },
        "id": "-bpOt2_DQj-c",
        "outputId": "80831f64-d983-4657-8147-ba62d6b6f425"
      },
      "source": [
        "jovian.commit()"
      ],
      "execution_count": null,
      "outputs": [
        {
          "output_type": "stream",
          "text": [
            "[jovian] Detected Colab notebook...\u001b[0m\n",
            "[jovian] Uploading colab notebook to Jovian...\u001b[0m\n",
            "Committed successfully! https://jovian.ai/aaryaashay1848/ipl-dataset-analysis\n"
          ],
          "name": "stdout"
        },
        {
          "output_type": "execute_result",
          "data": {
            "application/vnd.google.colaboratory.intrinsic+json": {
              "type": "string"
            },
            "text/plain": [
              "'https://jovian.ai/aaryaashay1848/ipl-dataset-analysis'"
            ]
          },
          "metadata": {
            "tags": []
          },
          "execution_count": 297
        }
      ]
    },
    {
      "cell_type": "markdown",
      "metadata": {
        "id": "1BPiMK_AQj-c"
      },
      "source": [
        "#### Q5: What is the probability of winning a match if batting first and second respectively ?"
      ]
    },
    {
      "cell_type": "code",
      "metadata": {
        "id": "cwZbwHPJQj-c"
      },
      "source": [
        "wins_batting_first = combined_ipl_df[combined_ipl_df.Win_Type == \"by runs\"].count()['Win_Type']\n",
        "probability_of_win_batting_first = wins_batting_first / combined_ipl_df.count()['Win_Type']"
      ],
      "execution_count": null,
      "outputs": []
    },
    {
      "cell_type": "code",
      "metadata": {
        "id": "6jfJ_0NyQj-c"
      },
      "source": [
        "wins_batting_second =  combined_ipl_df[combined_ipl_df.Win_Type == \"by wickets\"].count()['Win_Type']\n",
        "probability_of_win_batting_second = wins_batting_second / combined_ipl_df.count()['Win_Type']"
      ],
      "execution_count": null,
      "outputs": []
    },
    {
      "cell_type": "code",
      "metadata": {
        "colab": {
          "base_uri": "https://localhost:8080/"
        },
        "id": "FhWK2ceEQj-c",
        "outputId": "0fffdf99-6b29-42a3-ebfb-dd024e15e28b"
      },
      "source": [
        "print(\"Probability of winning a match by batting first - \", probability_of_win_batting_first)\n",
        "print(\"Probability of winning a match by batting second - \", probability_of_win_batting_second)"
      ],
      "execution_count": null,
      "outputs": [
        {
          "output_type": "stream",
          "text": [
            "Probability of winning a match by batting first -  0.45233968804159447\n",
            "Probability of winning a match by batting second -  0.5320623916811091\n"
          ],
          "name": "stdout"
        }
      ]
    },
    {
      "cell_type": "markdown",
      "metadata": {
        "id": "Re14ZABoQj-c"
      },
      "source": [
        "Let us save and upload our work to Jovian before continuing."
      ]
    },
    {
      "cell_type": "code",
      "metadata": {
        "id": "OOWEolWqQj-c"
      },
      "source": [
        "import jovian"
      ],
      "execution_count": null,
      "outputs": []
    },
    {
      "cell_type": "code",
      "metadata": {
        "colab": {
          "base_uri": "https://localhost:8080/",
          "height": 86
        },
        "id": "D1ZvzDfvQj-d",
        "outputId": "e4917504-c656-4667-b492-1dc1ef05c893"
      },
      "source": [
        "jovian.commit()"
      ],
      "execution_count": null,
      "outputs": [
        {
          "output_type": "stream",
          "text": [
            "[jovian] Detected Colab notebook...\u001b[0m\n",
            "[jovian] Uploading colab notebook to Jovian...\u001b[0m\n",
            "Committed successfully! https://jovian.ai/aaryaashay1848/ipl-dataset-analysis\n"
          ],
          "name": "stdout"
        },
        {
          "output_type": "execute_result",
          "data": {
            "application/vnd.google.colaboratory.intrinsic+json": {
              "type": "string"
            },
            "text/plain": [
              "'https://jovian.ai/aaryaashay1848/ipl-dataset-analysis'"
            ]
          },
          "metadata": {
            "tags": []
          },
          "execution_count": 289
        }
      ]
    },
    {
      "cell_type": "markdown",
      "metadata": {
        "id": "o7dqwnDNQj-d"
      },
      "source": [
        "## Inferences and Conclusion\n",
        "\n",
        "Following conclusions can be made based on the IPL dataset studied - \n",
        "- Team batting second has more chances of winning a match. Team batting second won 53 out of 100 matches played \n",
        "- Chances of a match getting tied is just 1% . This means only 1 match gets tied out of 100 matches\n",
        "- Chances of a match getting no result is just 0.5%. This means only 1 out of 200 matches played will have no result \n",
        "- There is 20% chance of a close match where a team batting first just win by a margin of less than 10 runs"
      ]
    },
    {
      "cell_type": "code",
      "metadata": {
        "id": "S-KGm_cjQj-d"
      },
      "source": [
        "import jovian"
      ],
      "execution_count": null,
      "outputs": []
    },
    {
      "cell_type": "code",
      "metadata": {
        "colab": {
          "base_uri": "https://localhost:8080/",
          "height": 86
        },
        "id": "8kgV5r_OQj-d",
        "outputId": "10009c6f-fc53-443c-948e-f03170b34695"
      },
      "source": [
        "jovian.commit()"
      ],
      "execution_count": null,
      "outputs": [
        {
          "output_type": "stream",
          "text": [
            "[jovian] Detected Colab notebook...\u001b[0m\n",
            "[jovian] Uploading colab notebook to Jovian...\u001b[0m\n",
            "Committed successfully! https://jovian.ai/aaryaashay1848/ipl-dataset-analysis\n"
          ],
          "name": "stdout"
        },
        {
          "output_type": "execute_result",
          "data": {
            "application/vnd.google.colaboratory.intrinsic+json": {
              "type": "string"
            },
            "text/plain": [
              "'https://jovian.ai/aaryaashay1848/ipl-dataset-analysis'"
            ]
          },
          "metadata": {
            "tags": []
          },
          "execution_count": 299
        }
      ]
    },
    {
      "cell_type": "markdown",
      "metadata": {
        "id": "hhEsTwI1Qj-d"
      },
      "source": [
        "## References and Future Work\n",
        "\n",
        "The dataset download from Kaggle has many more files and columns which can be used to analyze the performance of a player, team and answer many more complex questions like the one given below - \n",
        "- probability of a team winning by batting first in Mumbai\n",
        "- probability of a team winning between two opponents who clashed in the past\n",
        "- performance of various players in the team against various opponents\n",
        "\n",
        "\n",
        "## References \n",
        "- [Pandas API documentation](https://pandas.pydata.org/docs/)\n",
        "- [Pandas Geeks for Geeks tutorial](https://www.geeksforgeeks.org/pandas-tutorial/)\n",
        "- [Pandas Tutorial: DataFrames in Python](https://www.datacamp.com/community/tutorials/pandas-tutorial-dataframe-python)\n",
        "- [Course: Pandas and NumPy Fundamentals](https://www.dataquest.io/course/pandas-fundamentals/)\n"
      ]
    },
    {
      "cell_type": "markdown",
      "metadata": {
        "id": "dnjK-nOTQj-e"
      },
      "source": [
        "> Submission Instructions (delete this cell)\n",
        "> \n",
        "> - Upload your notebook to your Jovian.ml profile using `jovian.commit`.\n",
        "> - **Make a submission here**: https://jovian.ml/learn/data-analysis-with-python-zero-to-pandas/assignment/course-project\n",
        "> - Share your work on the forum: https://jovian.ml/forum/t/course-project-on-exploratory-data-analysis-discuss-and-share-your-work/11684\n",
        "> - Share your work on social media (Twitter, LinkedIn, Telegram etc.) and tag [@JovianML](https://twitter.com/jovianml)\n",
        ">\n",
        "> (Optional) Write a blog post\n",
        "> \n",
        "> - A blog post is a great way to present and showcase your work.  \n",
        "> - Sign up on [Medium.com](https://medium.com) to write a blog post for your project.\n",
        "> - Copy over the explanations from your Jupyter notebook into your blog post, and [embed code cells & outputs](https://medium.com/jovianml/share-and-embed-jupyter-notebooks-online-with-jovian-ml-df709a03064e)\n",
        "> - Check out the Jovian.ml Medium publication for inspiration: https://medium.com/jovianml\n",
        "\n",
        "\n",
        " "
      ]
    },
    {
      "cell_type": "code",
      "metadata": {
        "id": "LJZsmKTrQj-e"
      },
      "source": [
        "import jovian"
      ],
      "execution_count": null,
      "outputs": []
    },
    {
      "cell_type": "code",
      "metadata": {
        "id": "XxWeq5eKQj-e",
        "scrolled": true
      },
      "source": [
        "jovian.commit()"
      ],
      "execution_count": null,
      "outputs": []
    },
    {
      "cell_type": "code",
      "metadata": {
        "id": "UY4Bve5wQj-e"
      },
      "source": [
        ""
      ],
      "execution_count": null,
      "outputs": []
    }
  ]
}